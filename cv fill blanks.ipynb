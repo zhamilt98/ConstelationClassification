{
 "cells": [
  {
   "cell_type": "code",
   "execution_count": 26,
   "id": "exposed-wrapping",
   "metadata": {},
   "outputs": [
    {
     "name": "stdout",
     "output_type": "stream",
     "text": [
      "nan\n"
     ]
    }
   ],
   "source": [
    "import pandas as pd\n",
    "import numpy as np\n",
    "csv=np.array(pd.read_csv('C:\\\\Users\\\\Zachary\\\\Downloads\\\\cvdatalabels.csv'))\n",
    "csv=csv[:684,:81]\n",
    "print(csv[0,1])\n",
    "for j in range(csv.shape[1]):\n",
    "    insert=0\n",
    "    for i in range(csv.shape[0]):\n",
    "        if csv[i,j]==0:\n",
    "            insert=0\n",
    "        if csv[i,j]==1:\n",
    "            insert=1\n",
    "        if np.isnan(csv[i,j]):\n",
    "            csv[i,j]=insert"
   ]
  },
  {
   "cell_type": "code",
   "execution_count": 27,
   "id": "athletic-broadway",
   "metadata": {},
   "outputs": [],
   "source": [
    "pd.DataFrame(csv).to_csv('C:\\\\Users\\\\Zachary\\\\Downloads\\\\completeStarData.csv',index=False)"
   ]
  },
  {
   "cell_type": "code",
   "execution_count": null,
   "id": "single-queensland",
   "metadata": {},
   "outputs": [],
   "source": []
  }
 ],
 "metadata": {
  "kernelspec": {
   "display_name": "Python 3",
   "language": "python",
   "name": "python3"
  },
  "language_info": {
   "codemirror_mode": {
    "name": "ipython",
    "version": 3
   },
   "file_extension": ".py",
   "mimetype": "text/x-python",
   "name": "python",
   "nbconvert_exporter": "python",
   "pygments_lexer": "ipython3",
   "version": "3.7.6"
  }
 },
 "nbformat": 4,
 "nbformat_minor": 5
}
